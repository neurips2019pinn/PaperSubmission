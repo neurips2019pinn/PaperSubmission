{
 "cells": [
  {
   "cell_type": "code",
   "execution_count": 54,
   "metadata": {},
   "outputs": [],
   "source": [
    "import importlib\n",
    "import os\n",
    "import argparse\n",
    "import time\n",
    "\n",
    "from torchvision import datasets\n",
    "from torchvision import transforms\n",
    "import torch\n",
    "import torch as th\n",
    "import torch.nn as nn\n",
    "import torch.nn.functional as F\n",
    "import matplotlib.pyplot as plt\n",
    "import numpy as np\n",
    "\n",
    "import datasets as ds\n",
    "import models\n",
    "import utils\n",
    "from PoseExtraction import PoseNormalization\n",
    "# from multiPoseExtraction import MultiPoseExtraction\n",
    "\n",
    "import matplotlib.pyplot as plt\n",
    "import glob\n",
    "import imageio\n",
    "import matplotlib.patches as patches\n",
    "import cv2\n",
    "import numpy as np \n",
    "\n",
    "class Noise(nn.Module):\n",
    "    def __init__(self, scale=0.01):\n",
    "        super(Noise, self).__init__()\n",
    "        self.scale = scale\n",
    "\n",
    "    def forward(self, x):\n",
    "        device = x.device\n",
    "        noise = (torch.randn_like(x)*self.scale).to(device)\n",
    "        return x + noise\n",
    "\n",
    "def plot_arrow_img(ax, means, orientations, img_shape, arrow_scale=2, color='r'):\n",
    "    mean_x = means[0, 0, 0].cpu().data.numpy()\n",
    "    mean_y = means[0, 1, 0].cpu().data.numpy()\n",
    "\n",
    "    rot = orientations[0].cpu().data.numpy()\n",
    "    arrow_start = (mean_x, img_shape[1] - mean_y)\n",
    "    arrow_end = (rot[0, 0]*arrow_scale, -1*rot[0, 1]*arrow_scale)\n",
    "\n",
    "    #         ax[index % row_length].arrow(arrow_start[0], arrow_start[1], arrow_end[0], arrow_end[1], \n",
    "    #                     head_width=0.5, head_length=1, fc='red', ec='r', linewidth=4, alpha=1)\n",
    "\n",
    "    ax.arrow(arrow_start[0], arrow_start[1], arrow_end[0], arrow_end[1], \n",
    "                head_width=1.5, head_length=1, fc='red', ec=color, linewidth=4, alpha=0.8)\n"
   ]
  },
  {
   "cell_type": "code",
   "execution_count": 2,
   "metadata": {},
   "outputs": [
    {
     "name": "stdout",
     "output_type": "stream",
     "text": [
      "torch.Size([5000, 1, 28, 28])\n",
      "torch.Size([5000, 1])\n"
     ]
    }
   ],
   "source": [
    "train_loader, test_loader, dataset_details = ds.AffNIST()"
   ]
  },
  {
   "cell_type": "code",
   "execution_count": 56,
   "metadata": {
    "scrolled": false
   },
   "outputs": [],
   "source": [
    "\n",
    "for batch_index in range(12):\n",
    "    for i, (img_batch, label) in enumerate(train_loader):\n",
    "        if i == batch_index:\n",
    "            break\n",
    "\n",
    "\n",
    "    for img_index in range(30):\n",
    "        img = img_batch[img_index:img_index+1]\n",
    "        features = cnn.layer1(img.cuda())\n",
    "        features = Noise(scale=0.0001)(features)\n",
    "        pose_norm = PoseNormalization(1, (28, 28)).to(device)\n",
    "        new_img, mu_W, orientations, confidence, theta, (L1, L2) = pose_norm(img.cuda())\n",
    "        orientation = theta[:, :, 0].unsqueeze(0)\n",
    "        # new_img = apply_theta_transform(img, theta)\n",
    "\n",
    "        row_length = 4\n",
    "        fig, ax = plt.subplots(2, 1)\n",
    "        ax[0].imshow(utils.tensor_to_numpy_img(img), cmap='gray')\n",
    "\n",
    "\n",
    "        plot_arrow_img(ax[0], mu_W, orientations, \n",
    "                           (28, 28), 5, 'r')\n",
    "\n",
    "\n",
    "\n",
    "        # print(new_img.shape)\n",
    "        ax[1].imshow(utils.tensor_to_numpy_img(new_img), cmap='gray')\n",
    "        ax[0].axis('off')\n",
    "        ax[1].axis('off')\n",
    "        plt.savefig('./AffNISTResults/fig_{}'.format(batch_index*30 + img_index))\n",
    "        plt.close()"
   ]
  },
  {
   "cell_type": "code",
   "execution_count": 9,
   "metadata": {},
   "outputs": [],
   "source": [
    "class PINN(torch.nn.Module):\n",
    "    def __init__(self, channel_num, img_shape, num_classes=10):\n",
    "        super(PINN, self).__init__()        \n",
    "        self.pose_norm = PoseNormalization(16, (14, 14))\n",
    "\n",
    "        self.layer1 = nn.Sequential(\n",
    "            nn.ReflectionPad2d((1, 1, 1, 1)),\n",
    "            nn.Conv2d(channel_num, 16, kernel_size=3),\n",
    "            nn.BatchNorm2d(16),\n",
    "            nn.ReLU(),\n",
    "            nn.ReflectionPad2d((1, 1, 1, 1)),\n",
    "            nn.Conv2d(16, 16, kernel_size=3),\n",
    "            nn.BatchNorm2d(16),\n",
    "            nn.ReLU(),\n",
    "            nn.ReflectionPad2d((1, 1, 1, 1)),\n",
    "            nn.Conv2d(16, 16, kernel_size=3),\n",
    "            nn.BatchNorm2d(16),\n",
    "            nn.ReLU(),\n",
    "            nn.MaxPool2d(2))\n",
    "        \n",
    "        self.layer2 = nn.Sequential(\n",
    "            nn.Conv2d(16, 32, kernel_size=3, padding=1),\n",
    "            nn.BatchNorm2d(32),\n",
    "            nn.ReLU(),\n",
    "            nn.Conv2d(32, 32, kernel_size=3, padding=1),\n",
    "            nn.BatchNorm2d(32),\n",
    "            nn.ReLU(),\n",
    "            nn.MaxPool2d(2))\n",
    "        \n",
    "        \n",
    "        self.fc = nn.Linear(int(img_shape[1]/4)*int(img_shape[0]/4)*32, num_classes)\n",
    "        \n",
    "    def forward(self, x):\n",
    "        x = self.layer1(x)\n",
    "        \n",
    "        \n",
    "        _, mu_W, orientations, confidence, theta, (L1, L2) = self.pose_norm(x)\n",
    "\n",
    "        grid = F.affine_grid(theta, x.size())\n",
    "        x = F.grid_sample(x, grid)\n",
    "\n",
    "        x = self.layer2(x)\n",
    "\n",
    "        x = x.view(x.size(0), -1)\n",
    "        x = self.fc(x)\n",
    "        # x = torch.cat([x, orientations[:, :, 0]], dim=1)\n",
    "        # x = self.fc2(x)\n",
    "\n",
    "        return x\n"
   ]
  },
  {
   "cell_type": "code",
   "execution_count": 10,
   "metadata": {},
   "outputs": [],
   "source": [
    "class CNN(torch.nn.Module):\n",
    "    def __init__(self, channel_num, img_shape):\n",
    "        super(CNN, self).__init__()\n",
    "        self.layer1 = nn.Sequential(\n",
    "            nn.ReflectionPad2d((1, 1, 1, 1)),\n",
    "            nn.Conv2d(channel_num, 16, kernel_size=3),\n",
    "            nn.BatchNorm2d(16),\n",
    "            nn.ReLU(),\n",
    "            nn.ReflectionPad2d((1, 1, 1, 1)),\n",
    "            nn.Conv2d(16, 16, kernel_size=3),\n",
    "            nn.BatchNorm2d(16),\n",
    "            nn.ReLU(),\n",
    "            nn.ReflectionPad2d((1, 1, 1, 1)),\n",
    "            nn.Conv2d(16, 16, kernel_size=3),\n",
    "            nn.BatchNorm2d(16),\n",
    "            nn.ReLU(),\n",
    "            nn.MaxPool2d(2),\n",
    "            nn.ReflectionPad2d((1, 1, 1, 1)),\n",
    "            nn.Conv2d(16, 32, kernel_size=3),\n",
    "            nn.BatchNorm2d(32),\n",
    "            nn.ReLU(),\n",
    "            nn.ReflectionPad2d((1, 1, 1, 1)),\n",
    "            nn.Conv2d(32, 32, kernel_size=3),\n",
    "            nn.BatchNorm2d(32),\n",
    "            nn.ReLU(),\n",
    "            nn.MaxPool2d(2),\n",
    "            Noise()\n",
    "        )\n",
    "        \n",
    "        \n",
    "#         self.fc = nn.Linear(int(img_shape[1]/4)*int(img_shape[0]/4)*32, 10)\n",
    "        self.fc2 = nn.Sequential(nn.Linear(7*7*32, 20),\n",
    "                                 nn.Linear(20, 10))\n",
    "        \n",
    "    def forward(self, x):\n",
    "        x = self.layer1(x)\n",
    "        x = x.view(-1, 7*7*32)\n",
    "        x = self.fc2(x)\n",
    "\n",
    "        return x\n"
   ]
  },
  {
   "cell_type": "code",
   "execution_count": 11,
   "metadata": {},
   "outputs": [],
   "source": [
    "device = torch.device(\"cuda:0\" if torch.cuda.is_available() else \"cpu\")\n",
    "batch_size, channel_num, height, width = dataset_details\n",
    "\n",
    "cnn_basic = CNN(channel_num=channel_num, img_shape=[height, width]).to(device)\n",
    "criterion_cnn_basic = nn.CrossEntropyLoss()\n",
    "\n",
    "cnn = PINN(channel_num=channel_num, img_shape=[height, width]).to(device)\n",
    "criterion_cnn = nn.CrossEntropyLoss()"
   ]
  },
  {
   "cell_type": "code",
   "execution_count": 13,
   "metadata": {},
   "outputs": [
    {
     "name": "stdout",
     "output_type": "stream",
     "text": [
      "TOTAL TRAIN 640\n",
      "TOTAL VALIDATION 11000\n",
      "TOTAL TEST 5000\n",
      "STOPPING EPOCH\n",
      "Loss: 0.005968732805922627, Acc: 0.90625, Validation Loss: 0.006461238332770088\n",
      "STOPPING EPOCH\n",
      "Loss: 0.005559278605505824, Acc: 0.8984375, Validation Loss: 0.005578066189180721\n",
      "STOPPING EPOCH\n",
      "Loss: 0.0052946629002690315, Acc: 0.9, Validation Loss: 0.005417502731084824\n",
      "STOPPING EPOCH\n",
      "Loss: 0.0045438937842845915, Acc: 0.925, Validation Loss: 0.005176926998929544\n",
      "STOPPING EPOCH\n",
      "Loss: 0.004327024635858834, Acc: 0.915625, Validation Loss: 0.004592152014374733\n",
      "STOPPING EPOCH\n",
      "Loss: 0.004153146944008768, Acc: 0.9171875, Validation Loss: 0.005522847552191127\n",
      "STOPPING EPOCH\n",
      "Loss: 0.004434007429517805, Acc: 0.909375, Validation Loss: 0.004602416230873628\n",
      "STOPPING EPOCH\n",
      "Loss: 0.004078633664175868, Acc: 0.925, Validation Loss: 0.0039353083778511395\n",
      "STOPPING EPOCH\n",
      "Loss: 0.003632132790517062, Acc: 0.9328125, Validation Loss: 0.003572870840403167\n",
      "STOPPING EPOCH\n",
      "Loss: 0.003522759675979614, Acc: 0.9421875, Validation Loss: 0.0033842007768425074\n"
     ]
    }
   ],
   "source": [
    "learning_rate = 0.0005 * 2\n",
    "batch_num = 10\n",
    "epoch_num = 10\n",
    "# optimizer_pinn = torch.optim.Adam([param for param in pinn.parameters() if param.requires_grad], \n",
    "#                                   lr=learning_rate)\n",
    "optimizer_cnn = torch.optim.Adam(cnn.parameters(), lr=learning_rate)\n",
    "optimizer_cnn_basic = torch.optim.Adam(cnn_basic.parameters(), lr=learning_rate)\n",
    "# cnn_basic, cnn_basic_loss, cnn_basic_acc = utils.train_net(cnn_basic, train_loader, \n",
    "#                                                            test_loader, \n",
    "#                                                            criterion_cnn_basic, \n",
    "#                                                            optimizer_cnn_basic, batch_num, epoch_num)\n",
    "cnn, cnn_loss, cnn_acc, cnn_val_acc = utils.train_net(cnn, train_loader, test_loader, criterion_cnn, optimizer_cnn, batch_num, epoch_num)"
   ]
  },
  {
   "cell_type": "code",
   "execution_count": 12,
   "metadata": {},
   "outputs": [],
   "source": [
    "for (img_batch, label_batch) in train_loader:\n",
    "    break"
   ]
  },
  {
   "cell_type": "code",
   "execution_count": 13,
   "metadata": {},
   "outputs": [
    {
     "ename": "AttributeError",
     "evalue": "'PINN' object has no attribute 'multi_pose'",
     "output_type": "error",
     "traceback": [
      "\u001b[0;31m---------------------------------------------------------------------------\u001b[0m",
      "\u001b[0;31mAttributeError\u001b[0m                            Traceback (most recent call last)",
      "\u001b[0;32m<ipython-input-13-d9877c5eee95>\u001b[0m in \u001b[0;36m<module>\u001b[0;34m()\u001b[0m\n\u001b[1;32m      9\u001b[0m \u001b[0max\u001b[0m\u001b[0;34m.\u001b[0m\u001b[0mimshow\u001b[0m\u001b[0;34m(\u001b[0m\u001b[0mutils\u001b[0m\u001b[0;34m.\u001b[0m\u001b[0mtensor_to_numpy_img\u001b[0m\u001b[0;34m(\u001b[0m\u001b[0mimg\u001b[0m\u001b[0;34m)\u001b[0m\u001b[0;34m)\u001b[0m\u001b[0;34m\u001b[0m\u001b[0m\n\u001b[1;32m     10\u001b[0m \u001b[0mfig2\u001b[0m\u001b[0;34m,\u001b[0m \u001b[0max2\u001b[0m \u001b[0;34m=\u001b[0m \u001b[0mplt\u001b[0m\u001b[0;34m.\u001b[0m\u001b[0msubplots\u001b[0m\u001b[0;34m(\u001b[0m\u001b[0;36m4\u001b[0m\u001b[0;34m,\u001b[0m \u001b[0;36m4\u001b[0m\u001b[0;34m)\u001b[0m\u001b[0;34m\u001b[0m\u001b[0m\n\u001b[0;32m---> 11\u001b[0;31m \u001b[0mmeans\u001b[0m\u001b[0;34m,\u001b[0m \u001b[0morientations\u001b[0m\u001b[0;34m,\u001b[0m \u001b[0;34m(\u001b[0m\u001b[0mL1\u001b[0m\u001b[0;34m,\u001b[0m \u001b[0mL2\u001b[0m\u001b[0;34m)\u001b[0m \u001b[0;34m=\u001b[0m \u001b[0mcnn\u001b[0m\u001b[0;34m.\u001b[0m\u001b[0mmulti_pose\u001b[0m\u001b[0;34m(\u001b[0m\u001b[0mfeatures\u001b[0m\u001b[0;34m)\u001b[0m\u001b[0;34m\u001b[0m\u001b[0m\n\u001b[0m\u001b[1;32m     12\u001b[0m \u001b[0mprint\u001b[0m\u001b[0;34m(\u001b[0m\u001b[0mfeatures\u001b[0m\u001b[0;34m.\u001b[0m\u001b[0mshape\u001b[0m\u001b[0;34m)\u001b[0m\u001b[0;34m\u001b[0m\u001b[0m\n\u001b[1;32m     13\u001b[0m \u001b[0mprint\u001b[0m\u001b[0;34m(\u001b[0m\u001b[0mmeans\u001b[0m\u001b[0;34m.\u001b[0m\u001b[0mshape\u001b[0m\u001b[0;34m)\u001b[0m\u001b[0;34m\u001b[0m\u001b[0m\n",
      "\u001b[0;32m/usr/local/lib/python3.5/dist-packages/torch/nn/modules/module.py\u001b[0m in \u001b[0;36m__getattr__\u001b[0;34m(self, name)\u001b[0m\n\u001b[1;32m    530\u001b[0m                 \u001b[0;32mreturn\u001b[0m \u001b[0mmodules\u001b[0m\u001b[0;34m[\u001b[0m\u001b[0mname\u001b[0m\u001b[0;34m]\u001b[0m\u001b[0;34m\u001b[0m\u001b[0m\n\u001b[1;32m    531\u001b[0m         raise AttributeError(\"'{}' object has no attribute '{}'\".format(\n\u001b[0;32m--> 532\u001b[0;31m             type(self).__name__, name))\n\u001b[0m\u001b[1;32m    533\u001b[0m \u001b[0;34m\u001b[0m\u001b[0m\n\u001b[1;32m    534\u001b[0m     \u001b[0;32mdef\u001b[0m \u001b[0m__setattr__\u001b[0m\u001b[0;34m(\u001b[0m\u001b[0mself\u001b[0m\u001b[0;34m,\u001b[0m \u001b[0mname\u001b[0m\u001b[0;34m,\u001b[0m \u001b[0mvalue\u001b[0m\u001b[0;34m)\u001b[0m\u001b[0;34m:\u001b[0m\u001b[0;34m\u001b[0m\u001b[0m\n",
      "\u001b[0;31mAttributeError\u001b[0m: 'PINN' object has no attribute 'multi_pose'"
     ]
    },
    {
     "data": {
      "image/png": "[encoded data removed]",
      "text/plain": [
       "<matplotlib.figure.Figure at 0x7f0a6207f5c0>"
      ]
     },
     "metadata": {
      "needs_background": "light"
     },
     "output_type": "display_data"
    },
    {
     "data": {
      "image/png": "[encoded data removed]",
      "text/plain": [
       "<matplotlib.figure.Figure at 0x7f0a61e54ac8>"
      ]
     },
     "metadata": {
      "needs_background": "light"
     },
     "output_type": "display_data"
    }
   ],
   "source": [
    "img_index = 9\n",
    "img = img_batch[img_index:img_index+1]\n",
    "\n",
    "features = cnn.layer1(img.cuda())\n",
    "features.shape\n",
    "\n",
    "row_length = 4\n",
    "fig, ax = plt.subplots()\n",
    "ax.imshow(utils.tensor_to_numpy_img(img))\n",
    "fig2, ax2 = plt.subplots(4, 4)\n",
    "means, orientations, (L1, L2) = cnn.multi_pose(features)\n",
    "print(features.shape)\n",
    "print(means.shape)\n",
    "print(orientations.shape)\n",
    "\n",
    "for index, activation_map in enumerate(features[0]):\n",
    "    current_ax = ax2[index % 4, index // 4]\n",
    "    current_ax.imshow(utils.tensor_to_numpy_img(activation_map))\n",
    "    plot_arrow_img(current_ax, means[:, index], orientations[:, index], \n",
    "                   (14, 14), 2, 'y')\n",
    "    \n"
   ]
  }
 ],
 "metadata": {
  "kernelspec": {
   "display_name": "Python 3",
   "language": "python",
   "name": "python3"
  },
  "language_info": {
   "codemirror_mode": {
    "name": "ipython",
    "version": 3
   },
   "file_extension": ".py",
   "mimetype": "text/x-python",
   "name": "python",
   "nbconvert_exporter": "python",
   "pygments_lexer": "ipython3",
   "version": "3.5.2"
  }
 },
 "nbformat": 4,
 "nbformat_minor": 2
}
